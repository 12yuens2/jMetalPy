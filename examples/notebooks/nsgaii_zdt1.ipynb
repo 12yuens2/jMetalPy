{
 "cells": [
  {
   "cell_type": "code",
   "execution_count": 1,
   "metadata": {},
   "outputs": [
    {
     "data": {
      "text/html": [
       "\n",
       "<link rel=\"stylesheet\" href=\"https://code.jquery.com/ui/1.10.4/themes/smoothness/jquery-ui.css\">\n",
       "<style>div.hololayout {\n",
       "  display: flex;\n",
       "  align-items: center;\n",
       "  margin: 0;\n",
       "}\n",
       "\n",
       "div.holoframe {\n",
       "  width: 75%;\n",
       "}\n",
       "\n",
       "div.holowell {\n",
       "  display: flex;\n",
       "  align-items: center;\n",
       "}\n",
       "\n",
       "form.holoform {\n",
       "  background-color: #fafafa;\n",
       "  border-radius: 5px;\n",
       "  overflow: hidden;\n",
       "  padding-left: 0.8em;\n",
       "  padding-right: 0.8em;\n",
       "  padding-top: 0.4em;\n",
       "  padding-bottom: 0.4em;\n",
       "  box-shadow: inset 0 1px 1px rgba(0, 0, 0, 0.05);\n",
       "  margin-bottom: 20px;\n",
       "  border: 1px solid #e3e3e3;\n",
       "}\n",
       "\n",
       "div.holowidgets {\n",
       "  padding-right: 0;\n",
       "  width: 25%;\n",
       "}\n",
       "\n",
       "div.holoslider {\n",
       "  min-height: 0 !important;\n",
       "  height: 0.8em;\n",
       "  width: 100%;\n",
       "}\n",
       "\n",
       "div.holoformgroup {\n",
       "  padding-top: 0.5em;\n",
       "  margin-bottom: 0.5em;\n",
       "}\n",
       "\n",
       "div.hologroup {\n",
       "  padding-left: 0;\n",
       "  padding-right: 0.8em;\n",
       "  width: 100%;\n",
       "}\n",
       "\n",
       ".holoselect {\n",
       "  width: 92%;\n",
       "  margin-left: 0;\n",
       "  margin-right: 0;\n",
       "}\n",
       "\n",
       ".holotext {\n",
       "  padding-left:  0.5em;\n",
       "  padding-right: 0;\n",
       "  width: 100%;\n",
       "}\n",
       "\n",
       ".holowidgets .ui-resizable-se {\n",
       "  visibility: hidden\n",
       "}\n",
       "\n",
       ".holoframe > .ui-resizable-se {\n",
       "  visibility: hidden\n",
       "}\n",
       "\n",
       ".holowidgets .ui-resizable-s {\n",
       "  visibility: hidden\n",
       "}\n",
       "\n",
       "\n",
       "/* CSS rules for noUISlider based slider used by JupyterLab extension  */\n",
       "\n",
       ".noUi-handle {\n",
       "  width: 20px !important;\n",
       "  height: 20px !important;\n",
       "  left: -5px !important;\n",
       "  top: -5px !important;\n",
       "}\n",
       "\n",
       ".noUi-handle:before, .noUi-handle:after {\n",
       "  visibility: hidden;\n",
       "  height: 0px;\n",
       "}\n",
       "\n",
       ".noUi-target {\n",
       "  margin-left: 0.5em;\n",
       "  margin-right: 0.5em;\n",
       "}\n",
       "</style>\n",
       "\n",
       "\n",
       "<div class=\"logo-block\">\n",
       "<img src='data:image/png;base64,iVBORw0KGgoAAAANSUhEUgAAAEAAAABACAYAAACqaXHeAAAABHNCSVQICAgIfAhkiAAAAAlwSFlz\n",
       "AAAB+wAAAfsBxc2miwAAABl0RVh0U29mdHdhcmUAd3d3Lmlua3NjYXBlLm9yZ5vuPBoAAA6zSURB\n",
       "VHic7ZtpeFRVmsf/5966taWqUlUJ2UioBBJiIBAwCZtog9IOgjqACsogKtqirT2ttt069nQ/zDzt\n",
       "tI4+CrJIREFaFgWhBXpUNhHZQoKBkIUASchWla1S+3ar7r1nPkDaCAnZKoQP/D7mnPOe9/xy76n3\n",
       "nFSAW9ziFoPFNED2LLK5wcyBDObkb8ZkxuaoSYlI6ZcOKq1eWFdedqNzGHQBk9RMEwFAASkk0Xw3\n",
       "ETacDNi2vtvc7L0ROdw0AjoSotQVkKSvHQz/wRO1lScGModBFbDMaNRN1A4tUBCS3lk7BWhQkgpD\n",
       "lG4852/+7DWr1R3uHAZVQDsbh6ZPN7CyxUrCzJMRouusj0ipRwD2uKm0Zn5d2dFwzX1TCGhnmdGo\n",
       "G62Nna+isiUqhkzuKrkQaJlPEv5mFl2fvGg2t/VnzkEV8F5ioioOEWkLG86fvbpthynjdhXYZziQ\n",
       "x1hC9J2NFyi8vCTt91Fh04KGip0AaG9zuCk2wQCVyoNU3Hjezee9bq92duzzTmxsRJoy+jEZZZYo\n",
       "GTKJ6SJngdJqAfRzpze0+jHreUtPc7gpBLQnIYK6BYp/uGhw9YK688eu7v95ysgshcg9qSLMo3JC\n",
       "4jqLKQFBgdKDPoQ+Pltb8dUyQLpeDjeVgI6EgLIQFT5tEl3rn2losHVsexbZ3EyT9wE1uGdkIPcy\n",
       "BGxn8QUq1QrA5nqW5i2tLqvrrM9NK6AdkVIvL9E9bZL/oyfMVd/jqvc8LylzRBKDJSzIExwhQzuL\n",
       "QYGQj4rHfFTc8mUdu3E7yoLtbTe9gI4EqVgVkug2i5+uXGo919ixbRog+3fTbQ8qJe4ZOYNfMoTI\n",
       "OoshUNosgO60AisX15aeI2PSIp5KiFLI9ubb1vV3Qb2ltwLakUCDAkWX7/nHKRmmGIl9VgYsUhJm\n",
       "2NXjKYADtM1ygne9QQDIXlk49FBstMKx66D1v4+XuQr7vqTe0VcBHQlRWiOCbmmSYe2SqtL6q5rJ\n",
       "zsTb7lKx3FKOYC4DoqyS/B5bvLPxvD9Qtf6saxYLQGJErmDOdOMr/zo96km1nElr8bmPOBwI9COv\n",
       "HnFPRIwmkSOv9kcAS4heRsidOkpeWBgZM+UBrTFAXNYL5Vf2ii9c1trNzpYdaoVil3WIc+wdk+gQ\n",
       "noie3ecCcxt9ITcLAPWt/laGEO/9U6PmzZkenTtsSMQ8uYywJVW+grCstAvCIaAdArAsIWkRDDs/\n",
       "KzLm2YcjY1Lv0UdW73HabE9n6V66cxSzfEmuJssTpKGVp+0vHq73FwL46eOjpMpbRAnNmJFrGJNu\n",
       "Ukf9Yrz+3rghiumCKNXXWPhLYcjxGsIpoCMsIRoFITkW8AuyM8jC1+/QLx4bozCEJIq38+1rtpR6\n",
       "V/yzb8eBlRb3fo5l783N0CWolAzJHaVNzkrTzlEp2bQ2q3TC5gn6wpnoQAmwSiGh2GitnTmVMc5O\n",
       "UyfKWUKCIsU7+fZDKwqdT6DDpvkzAX4/+AMFjk0tDp5GRXLpQ2MUmhgDp5gxQT8+Y7hyPsMi8uxF\n",
       "71H0oebujHALECjFKaW9Lm68n18wXp2kVzIcABytD5iXFzg+WVXkegpAsOOYziqo0OkK76GyquC3\n",
       "ltZAzMhhqlSNmmWTE5T6e3IN05ITFLM4GdN0vtZ3ob8Jh1NAKXFbm5PtLU/eqTSlGjkNAJjdgn/N\n",
       "aedXa0tdi7+t9G0FIF49rtMSEgAs1kDLkTPO7ebm4IUWeyh1bKomXqlgMG6kJmHcSM0clYLJ8XtR\n",
       "1GTnbV3F6I5wCGikAb402npp1h1s7LQUZZSMIfALFOuL3UUrfnS8+rez7v9qcold5tilgHbO1fjK\n",
       "9ubb17u9oshxzMiUBKXWqJNxd+fqb0tLVs4lILFnK71H0Ind7uiPgACVcFJlrb0tV6DzxqqTIhUM\n",
       "CwDf1/rrVhTa33/3pGPxJYdQ2l2cbgVcQSosdx8uqnDtbGjh9SlDVSMNWhlnilfqZk42Th2ZpLpf\n",
       "xrHec5e815zrr0dfBZSwzkZfqsv+1FS1KUknUwPARVvItfKUY+cn57yP7qv07UE3p8B2uhUwLk09\n",
       "e0SCOrK+hbdYHYLjRIl71wWzv9jpEoeOHhGRrJAzyEyNiJuUqX0g2sBN5kGK6y2Blp5M3lsB9Qh4\n",
       "y2Ja6x6+i0ucmKgwMATwhSjdUu49tKrQ/pvN5d53ml2CGwCmJipmKjgmyuaXzNeL2a0AkQ01Th5j\n",
       "2DktO3Jyk8f9vcOBQHV94OK+fPumJmvQHxJoWkaKWq9Vs+yUsbq0zGT1I4RgeH2b5wef7+c7bl8F\n",
       "eKgoHVVZa8ZPEORzR6sT1BzDUAD/d9F78e2Tzv99v8D+fLVTqAKAsbGamKey1Mt9Ann4eH3gTXTz\n",
       "idWtAJ8PQWOk7NzSeQn/OTHDuEikVF1R4z8BQCy+6D1aWRfY0tTGG2OM8rRoPaeIj5ZHzJxszElN\n",
       "VM8K8JS5WOfv8mzRnQAKoEhmt8gyPM4lU9SmBK1MCQBnW4KONT86v1hZ1PbwSXPw4JWussVjtH9Y\n",
       "NCoiL9UoH/6PSu8jFrfY2t36erQHXLIEakMi1SydmzB31h3GGXFDFNPaK8Rme9B79Ixrd0WN+1ij\n",
       "NRQ/doRmuFLBkHSTOm5GruG+pFjFdAmorG4IXH1Qua6ASniclfFtDYt+oUjKipPrCQB7QBQ2lrgP\n",
       "fFzm+9XWUtcqJ3/5vDLDpJ79XHZk3u8nGZ42qlj1+ydtbxysCezrydp6ugmipNJ7WBPB5tydY0jP\n",
       "HaVNzs3QzeE4ZpTbI+ZbnSFPbVOw9vsfnVvqWnirPyCNGD08IlqtYkh2hjZ5dErEQzoNm+6ykyOt\n",
       "Lt5/PQEuSRRKo22VkydK+vvS1XEKlhCJAnsqvcVvH7f/ZU2R67eXbMEGAMiIV5oWZWiWvz5Fv2xG\n",
       "sjqNJQRvn3Rs2lji/lNP19VjAQDgD7FHhujZB9OGqYxRkZxixgRDVlqS6uEOFaJUVu0rPFzctrnF\n",
       "JqijImVp8dEKVWyUXDk92zAuMZ6bFwpBU1HrOw6AdhQgUooChb0+ItMbWJitSo5Ws3IAOGEOtL53\n",
       "0vHZih9sC4vtofZ7Qu6523V/fmGcds1TY3V36pUsBwAbSlxnVh2xLfAD/IAIMDf7XYIkNmXfpp2l\n",
       "18rkAJAy9HKFaIr/qULkeQQKy9zf1JgDB2uaeFNGijo5QsUyacNUUTOnGO42xSnv4oOwpDi1zYkc\n",
       "efUc3I5Gk6PhyTuVKaOGyLUAYPGIoY9Pu/atL/L92+4q9wbflRJ2Trpm/jPjdBtfnqB/dIThcl8A\n",
       "KG7hbRuKnb8qsQsVvVlTrwQAQMUlf3kwJI24Z4JhPMtcfng5GcH49GsrxJpGvvHIaeem2ma+KSjQ\n",
       "lIwUdYyCY8j4dE1KzijNnIP2llF2wcXNnsoapw9XxsgYAl6k+KzUXbi2yP3KR2ecf6z3BFsBICdW\n",
       "nvnIaG3eHybqX7vbpEqUMT+9OL4Qpe8VON7dXuFd39v19FoAABRVePbGGuXTszO0P7tu6lghUonE\n",
       "llRdrhArLvmKdh9u29jcFiRRkfLUxBiFNiqSU9icoZQHo5mYBI1MBgBH6wMNb+U7Pnw337H4gi1Y\n",
       "ciWs+uks3Z9fztUvfzxTm9Ne8XXkvQLHNytOOZeiD4e0PgkAIAYCYknKUNUDSXEKzdWNpnil7r4p\n",
       "xqkjTarZMtk/K8TQ6Qve78qqvXurGwIJqcOUKfUWHsm8KGvxSP68YudXq4pcj39X49uOK2X142O0\n",
       "Tz5/u/7TVybqH0rSya6ZBwD21/gubbrgWdDgEOx9WUhfBaC2ibcEBYm7a7x+ukrBMNcEZggyR0TE\n",
       "T8zUPjikQ4VosQZbTpS4vqizBKvqmvjsqnpfzaZyx9JPiz1/bfGKdgD45XB1zoIMzYbfTdS/NClB\n",
       "Gct0USiY3YL/g0LHy/uq/Ef6uo5+n0R/vyhp17Klpge763f8rMu6YU/zrn2nml+2WtH+Z+5IAAFc\n",
       "2bUTdTDOSNa9+cQY7YLsOIXhevEkCvzph7a8laecz/Un/z4/Ae04XeL3UQb57IwU9ZDr9UuKVajv\n",
       "nxp1+1UVIo/LjztZkKH59fO3G/JemqCfmaCRqbqbd90ZZ8FfjtkfAyD0J/9+C2h1hDwsSxvGjNDc\n",
       "b4zk5NfrSwiQblLHzZhg+Jf4aPlUwpDqkQqa9nimbt1/TDH8OitGMaQnj+RJS6B1fbF7SY1TqO5v\n",
       "/v0WAADl1f7zokgS7s7VT2DZ7pegUjBM7mjtiDZbcN4j0YrHH0rXpCtY0qPX0cVL0rv5jv/ZXend\n",
       "0u/EESYBAFBU4T4Qa5TflZOhTe7pmKpaP8kCVUVw1+yhXfJWvn1P3hnXi33JsTN6PnP3hHZ8Z3/h\n",
       "aLHzmkNPuPj7Bc/F/Q38CwjTpSwQXgE4Vmwry9tpfq/ZFgqFMy4AVDtCvi8rvMvOmv0N4YwbVgEA\n",
       "sPM72/KVnzfspmH7HQGCRLG2yL1+z8XwvPcdCbsAANh+xPzstgMtxeGKt+6MK3/tacfvwhWvIwMi\n",
       "oKEBtm0H7W+UVfkc/Y1V0BhoPlDr/w1w/eu1vjIgAgDg22OtX6/eYfnEz/focrZTHAFR+PSs56/7\n",
       "q32nwpjazxgwAQCwcU/T62t3WL7r6/jVRa6/byp1rei+Z98ZUAEAhEPHPc8fKnTU9nbgtnOe8h0l\n",
       "9hcGIqmODLQAHCy2Xti6v/XNRivf43f4fFvIteu854+VHnR7q9tfBlwAAGz+pnndB9vM26UebAe8\n",
       "SLHujPOTPVW+rwY+sxskAAC2HrA8t2Vvc7ffP1r9o+vwR2dcr92InIAbKKC1FZ5tB1tf+/G8p8sv\n",
       "N/9Q5zd/XR34LYCwV5JdccMEAMDBk45DH243r/X4xGvqxFa/GNpS7n6rwOwNWwHVE26oAADYurf1\n",
       "zx/utOzt+DMKYM0p17YtZZ5VNzqfsB2HewG1WXE8PoZ7gOclbTIvynZf9JV+fqZtfgs/8F/Nu5rB\n",
       "EIBmJ+8QRMmpU7EzGRsf2FzuePqYRbzh/zE26EwdrT10f6r6o8HOYzCJB9Dpff8tbnGLG8L/A/WE\n",
       "roTBs2RqAAAAAElFTkSuQmCC'\n",
       "     style='height:25px; border-radius:12px; display: inline-block; float: left; vertical-align: middle'></img>\n",
       "\n",
       "\n",
       "\n",
       "\n",
       "  <img src='data:image/png;base64,iVBORw0KGgoAAAANSUhEUgAAACAAAAAgCAYAAABzenr0AAAABHNCSVQICAgIfAhkiAAAAAlwSFlz\n",
       "AAAFMAAABTABZarKtgAAABl0RVh0U29mdHdhcmUAd3d3Lmlua3NjYXBlLm9yZ5vuPBoAAArNSURB\n",
       "VFiFnVd5VFNXGv/ee0kgGyQhbFoXIKCFYEXEDVErTucMoKUOWA/VLsNSLPQgFTOdyrHPiIp1lFIQ\n",
       "OlaPShEG3EpPcQmISCuV1bQ1CLKIULeQhJA9JO+9+UMT0x5aPfOdc895373f/e7v/t537/ddBF5Q\n",
       "JBIJl81mJwCACEVRQBCEQhAEAQCgnghCURRCkmS7Wq2+WlJSYn0Rv8jzDHAcD0EQJIVGo5mFQuGF\n",
       "jIyMu39kq1KpkOrq6gU6nS6aIAiGzWY7VVBQ0P9/AcjNzWXy+fxcOp2uiY+Przm0d6+n8dblv/Fo\n",
       "kzM4SzYfPlRePvFnjnt6ehh1dXVv2mw2nlar/byoqMj8wgBwHBchCJIZEhJSeu1yHVi7vtu02t8+\n",
       "NykQ7BMWoOUMhXQsXLv5IQAwSJJEEASxcDicoeTk5DtCoZBy9XX69Gnv3t7ebJIky3EcH3guAKlU\n",
       "GoGiaOKWLVsOvhs7/9XXPMde3/IyIFbMnaPDuD5AUdQuOf2XlD0npTExMWYAgNbWVpZcLg8xGAzB\n",
       "JEnSvby82tPT052LaTQatLy8fBtJkt/s3Lnz5h8CwHFcRKPRNu/YsePAjh072KTs0IGCxRg8RgUB\n",
       "TGpSx6cmHgMAfNqN6Xa1GvJ/D35gYAAViURkcXHxUrPZHDRv3rxv4uLiDI7xPXv2bLdYLBUFBQWD\n",
       "jj7M8ZGbm8tkMpmSrKysQiaTScXGxtpqL7dManT6tcu5mgEWWJyOhicozpk+c3NsbKzNFcBbWWEf\n",
       "1Td9/upA30i3ZJv0h8bGxiSFQmFcuHDhOACAWCy+0d3dvX3lypUtzc3N9t8AiIuLk4SEhByLiooy\n",
       "AgAcO3ZsNlPgH3Cttb35JZo+bCYXIQAA9MDiUW7sWS1KN687w6Mera2twa2trfMvXboUOS28Pyb1\n",
       "U08McRtf/sXBSmt5cc35pqamVQqFwhoZGallMpnU/fv3e7RaberVq1d/AABAn1IfQqfTNRs3blQB\n",
       "AFy+fJk7Nja2XCKRnD3dNSorusPq6NfTPR+gPiEEoLRFXO1tS2+zavv27ReftjNttyr0S1/j0rUP\n",
       "PEJQwNwQYGgAACQSyXmNRhMtk8lYAAApKSlKDMP0+fn5QU4ACIKkxMfH1zjYuHnz5uspKSlOfdX7\n",
       "u68fvOePcCzKQR4YVCgATGfa/F3pnzaHWOAXSDyaMCqH2+r8VXErP3D+snXr1tV2dXW94dATExOr\n",
       "6XT6JgAAVCKRcDEMM4WHh9sAAHJyUqNu//wDymKx7AAAVVVVPiaTKXxByrYMvBsxEMSTwPXhuL+8\n",
       "e/fu9fv371+flvbemogYNz+TnsBOFEwMFO8/KzEYDKFVVVX+AAChoaGT7u7ud48ePRro0DEMs+bl\n",
       "5bFRNpud4O3tfdGBzq5uy/5wTUPM/q2zC9atmbVqeHg4Pi0t7WxGRoZFH5rw76I7LI8HqHfwPL7d\n",
       "rfVagzw1NfW81t4ePUfsP/OrnWZ6fPSuUqFQSEkkkrOjo6OvuQR5q0ajiXLoPj4+lzgcTjwKACLH\n",
       "9SqXy2kzhBO8haGo+UA2wZW+p880DxeveGt9aHx9fT09ctlq3sC0NT9e6xsbjuZblSxl7wKtVotM\n",
       "m6PnXvlmZJBtX91CEMQsxyJsNlteXl4udugIghAajQYFAEhPTx9AEGQOimGY8y4oLt63KlJkdB4t\n",
       "P282Z/c/dPrDH04ktJ9P2tfWXP3+2o1vHzunEp6Xq0lsGt08KzUrcSGTQ3n3XeefLCs5UqnT6Rap\n",
       "VCoEACA7O/snvV4f5gJooLa2NsihoygKKEVRzquTND2OCpttGXdG1tOxwOlgzdvE9v30rV+m3W5I\n",
       "2jfJNQmLH85QUUzPNTwvkAx0+vVGhq2/VV9fT+dyuZ01NTXOXQOA3fGxevXq2waDYY5r8KIoij5b\n",
       "jzB5Cz2oKdOo0erOm+1tVuVtBMZXElNMRJR1fvvjx9iPLQ/RjpuB0Xu/Vp7YmH1864YNG3oNBkPw\n",
       "VD7mzp1rJUnSzZUBmqsBggAgGFC/n6jVA+3WoN3tu1Gg39cg2tEx1Cg3CIJHsclxnl2HRorMN8Z0\n",
       "fRW+vr7GJ36Q56Z5h9BIknzGAMJWtvdQYs0EZe3/FSwqk5tpXEMb1JoYD+n8xRdQJl/fMPEgzKhS\n",
       "L40KCD7lGzg92qIyovpb3y/msT2un2psvFpWVvYyl8vtc1nDSXFXV5c7iqLOtEyS5LNBAADfWeKm\n",
       "Ly4uuvR1++sfv51/P5sfnHm2/Iy+mBmwsaHJbpt+Q0jHSS7TZ/PSNVkNJ/973OxtemD1s91CPb12\n",
       "h9MfvZsk5meo1eqo5ORkxTNWn7HR1tY2l8PhOAsUiqIolCRJcETtv/61qzNySYK5trZ2TCgUUiwW\n",
       "S1FSUhLR+bA/kAzwXcAbHa/cFhrTXrJ/v+7IkSPu3Je4Xm5eboJv2wba5QbO5fQwxhsP679Y+nFO\n",
       "jgAAoKSkJILFYjnBGI1G0YYNGwYBnqRoiqIQlKKojurq6gUAAAKBgKQoiuGYkJWVpTCZTOKmI1Xd\n",
       "HwnDcm+cOnOMw+H0FxYWbqpvqv/r9EV+bky+O+/QoUPiqJRt9JphTLFHbKBCR87tWL9EPN9oNIZn\n",
       "ZWUpXHaMCQQCEgCgsrIyEgBuoGq1+qpOp4t2GPH5/BvFxcVLHXpgYGDD8ePH/56Xl2cCAMjMzOxP\n",
       "S0s7pWfow4RCbz/fAF9RT0+P9yeffHJySSqev+9nxLD1FaAlTR8vlJ8vxxzsFhUVLRMIBB0OvwaD\n",
       "YRlFUdfQkpISK0EQ9J6eHgYAQEZGxl2z2Rw0MjJCBwBITk5+xOVyfzpw4ECSw5lQKKQIbxtJm4EN\n",
       "8eZ7jPz0oNv+dK5FG/jq54eH+IFr/S1KabBy0UerAvI+++wzD4vFEpCWljYEACCTyVh2ux3FcXwS\n",
       "BQCw2WxVdXV1bzrQRURE1FVVVTn1zMzM/pkzZ35/9OjRd0pLS19RqVQIy4/tCwDgOcPTQvFQEQBA\n",
       "aWnpK0ERK2LbyVllN341GUJ4YDu8zD5bKyur7O+85tx9Z2fnO1ar9QjA04KkpaVFs2LFir8olcq7\n",
       "YWFhJpFINNnX16drbGyMjY6Ovg0AIBaLjcuXL5d3d3d7XbhwIW704b3F479MeD1qVfJ5Og/bvb4R\n",
       "LwaDMZabm9uwflNa/z/3HOIv5NsDEK7XS7FeevXPvYNLvm5S/GglCK5KpZorlUobXE8g5ObmMqVS\n",
       "6UG1Wu1BURSHoijOiRMnwgoLC7coFAqBo+9Fm0KhEKStmvvto3TeucFN7pVJYbytarXaQyqVHsRx\n",
       "3N15TF1BuBaljr4rV66wOzo63mAymXdzcnKuwwtIUVHRMqvVGkgQxMV7NXvyJijGvcNXB/7z5Zdf\n",
       "bicI4gSO40NTAgD4bVnuODIAT2pElUq1FEEQO4fD6QsPD++fqixHEATj8/ntjoCrqKhwS0hIsJWV\n",
       "leURBHEOx3G563pT3tn5+flBDAbjg6CgoMMpKSlK17GhoSFMJpMFPk04DJIkEQzDzCwW6+5UD5Oa\n",
       "mhrfO3fufECS5GHXnf8pAAAAHMfdURTdimGYPjExsTo0NHTyj2ynEplMxurs7HyHIAiKJMlSHMct\n",
       "U9k9N2vl5+cH0en0TRiGWX18fC65vnh+LxqNBq2oqFhgMpmi7XY7arVaj+zdu/fxn/l/4bSZl5fH\n",
       "5nK5CQAQMtXznCRJePpEbwOAZhzHX4ix/wHzzC/tu64gcwAAAABJRU5ErkJggg=='\n",
       "       style='height:15px; border-radius:12px; display: inline-block; float: left'></img>\n",
       "  \n",
       "\n",
       "\n",
       "</div>\n"
      ]
     },
     "metadata": {},
     "output_type": "execute_result"
    },
    {
     "data": {},
     "metadata": {},
     "output_type": "display_data"
    }
   ],
   "source": [
    "from jmetal.algorithm.multiobjective.nsgaii import NSGAII\n",
    "from jmetal.component import ProgressBarObserver, RankingAndCrowdingDistanceComparator\n",
    "from jmetal.component.observer import VisualizerObserver\n",
    "from jmetal.operator import SBX, Polynomial, BinaryTournamentSelection\n",
    "from jmetal.problem import ZDT1\n",
    "from jmetal.util.graphic import StreamingPlot\n",
    "from jmetal.util.solution_list import print_function_values_to_file, read_solutions\n",
    "from jmetal.util.termination_criteria import StoppingByEvaluations"
   ]
  },
  {
   "cell_type": "markdown",
   "metadata": {},
   "source": [
    "First, we will instantiate one of the benchmark problems included in jMetalPy:"
   ]
  },
  {
   "cell_type": "code",
   "execution_count": 2,
   "metadata": {},
   "outputs": [],
   "source": [
    "problem = ZDT1()\n",
    "problem.reference_front = read_solutions(file_path='../../resources/reference_front/{}.pf'.format(problem.get_name()))"
   ]
  },
  {
   "cell_type": "markdown",
   "metadata": {},
   "source": [
    "We will use the NSGA-II algorithm to optimize the problem and configure it to run until a maximum of 25000 evaluations are runned:"
   ]
  },
  {
   "cell_type": "code",
   "execution_count": 3,
   "metadata": {},
   "outputs": [],
   "source": [
    "algorithm = NSGAII(\n",
    "    problem=problem,\n",
    "    population_size=100,\n",
    "    offspring_size=100,\n",
    "    mating_pool_size=100,\n",
    "    mutation=Polynomial(probability=1.0 / problem.number_of_variables, distribution_index=20),\n",
    "    crossover=SBX(probability=1.0, distribution_index=20),\n",
    "    selection=BinaryTournamentSelection(comparator=RankingAndCrowdingDistanceComparator()),\n",
    "    termination_criteria=StoppingByEvaluations(max=25000)\n",
    ")"
   ]
  },
  {
   "cell_type": "markdown",
   "metadata": {},
   "source": [
    "It is possible to attach any number of observers to any algorithm to retrieve information from each iteration.\n",
    "A progress bar observer, for example, will print a smart progress meter that increases, on each iteration, a fixed value until the maximum (`max`) is reached."
   ]
  },
  {
   "cell_type": "code",
   "execution_count": 4,
   "metadata": {},
   "outputs": [],
   "source": [
    "# progress_bar = ProgressBarObserver(max=25000)\n",
    "# algorithm.observable.register(observer=progress_bar)\n",
    "\n",
    "visualizer = VisualizerObserver()\n",
    "algorithm.observable.register(observer=visualizer)"
   ]
  },
  {
   "cell_type": "markdown",
   "metadata": {},
   "source": [
    "We are now ready:"
   ]
  },
  {
   "cell_type": "code",
   "execution_count": 5,
   "metadata": {},
   "outputs": [
    {
     "data": {
      "text/html": [
       "<div id='1d52cdd564cc4b0998fbfccd90c42fcb' style='display: table; margin: 0 auto;'>\n",
       "    <div id=\"fig_1d52cdd564cc4b0998fbfccd90c42fcb\">\n",
       "      <img src='data:image/png;base64,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' style='max-width:100%; margin: auto; display: block; '/>\n",
       "    </div>\n",
       "    </div>"
      ],
      "text/plain": [
       ":DynamicMap   []\n",
       "   :Overlay\n",
       "      .Scatter.Reference_front :Scatter   [x]   (y)\n",
       "      .Scatter.I               :Scatter   [x]   (y)"
      ]
     },
     "metadata": {
      "application/vnd.holoviews_exec.v0+json": {
       "id": "1d52cdd564cc4b0998fbfccd90c42fcb"
      }
     },
     "output_type": "execute_result"
    }
   ],
   "source": [
    "algorithm.run()\n",
    "front = algorithm.get_result()"
   ]
  },
  {
   "cell_type": "code",
   "execution_count": 6,
   "metadata": {},
   "outputs": [
    {
     "name": "stdout",
     "output_type": "stream",
     "text": [
      "Algorithm (continuous problem): NSGAII\n",
      "Problem: ZDT1\n",
      "Computing time: 23.70499277114868\n"
     ]
    }
   ],
   "source": [
    "print('Algorithm (continuous problem): ' + algorithm.get_name())\n",
    "print('Problem: ' + problem.get_name())\n",
    "print('Computing time: ' + str(algorithm.total_computing_time))"
   ]
  },
  {
   "cell_type": "code",
   "execution_count": null,
   "metadata": {},
   "outputs": [],
   "source": []
  }
 ],
 "metadata": {
  "kernelspec": {
   "display_name": "Python 3",
   "language": "python",
   "name": "python3"
  },
  "language_info": {
   "codemirror_mode": {
    "name": "ipython",
    "version": 3
   },
   "file_extension": ".py",
   "mimetype": "text/x-python",
   "name": "python",
   "nbconvert_exporter": "python",
   "pygments_lexer": "ipython3",
   "version": "3.6.5"
  }
 },
 "nbformat": 4,
 "nbformat_minor": 1
}
